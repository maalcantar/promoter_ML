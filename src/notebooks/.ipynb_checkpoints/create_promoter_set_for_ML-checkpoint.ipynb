{
 "cells": [
  {
   "cell_type": "code",
   "execution_count": 1,
   "metadata": {},
   "outputs": [],
   "source": [
    "import pandas as pd\n",
    "import random"
   ]
  },
  {
   "cell_type": "code",
   "execution_count": 2,
   "metadata": {},
   "outputs": [],
   "source": [
    "def create_promoter_df_for_ml(positive_promoter_df,\n",
    "                              negative_permuted_promoter_df,\n",
    "                              random_df,\n",
    "                              percentage_permuted,\n",
    "                              random_idx_start):\n",
    "    promoters_for_ML = pd.DataFrame()\n",
    "    num_sequences_to_fill = list(range(0,positive_promoter_df.shape[0]))\n",
    "    num_permuted_promoter = int(round(percentage_permuted * len(num_sequences_to_fill)))\n",
    "    num_random_promoter = len(num_sequences_to_fill) - num_permuted_promoter\n",
    "    permuted_promoters_to_pull_idx = random.sample(num_sequences_to_fill,num_permuted_promoter)\n",
    "\n",
    "    negative_set_permuted_df = negative_permuted_promoter_df.copy().iloc[permuted_promoters_to_pull_idx,:]\n",
    "    random_set_df = random_df.copy().iloc[0:num_random_promoter,:]\n",
    "\n",
    "    random_idx_start = random_idx_start + num_random_promoter\n",
    "\n",
    "    promoters_for_ML_df = pd.concat([promoters_for_ML,\n",
    "           positive_promoter_df,\n",
    "           negative_set_permuted_df,\n",
    "           random_set_df],\n",
    "            sort=False).reset_index().drop('index', axis=1)\n",
    "    return(promoters_for_ML_df, random_idx_start)"
   ]
  },
  {
   "cell_type": "code",
   "execution_count": 3,
   "metadata": {},
   "outputs": [],
   "source": [
    "percentage_permuted = 0.75 # convert to an argument\n",
    "promoters_all_df = pd.read_csv('../../data/promoters_for_ML/promoters_all.csv', low_memory = False).fillna('')\n",
    "\n",
    "EPDnew_df = promoters_all_df.copy()[(promoters_all_df['database/source'] == 'EPDnew') |\n",
    "                                  (promoters_all_df['database/source'] == 'EPDnew (permuted)')\n",
    "                                  ]\n",
    "\n",
    "RegulonDB_df = promoters_all_df.copy()[(promoters_all_df['database/source'] == 'RegulonDB') |\n",
    "                                  (promoters_all_df['database/source'] == 'RegulonDB (permuted)')\n",
    "                                  ]\n",
    "\n",
    "random_df = promoters_all_df.copy()[promoters_all_df['database/source'] == 'random']\n",
    "\n",
    "eukaryotic_organisms = set(EPDnew_df['organism'])\n",
    "eukaryotic_motifs = [ 'Inr-pfa', 'nonInr-pfa','TATA', 'nonTATA'] # set(EPDnew_df['sigma factor/motif'])\n",
    "\n",
    "EPDnew_promoters_for_ML_df = pd.DataFrame()\n",
    "random_set_counter = 0\n",
    "\n",
    "for organism in eukaryotic_organisms:\n",
    "    for motif in eukaryotic_motifs:\n",
    "        EPDnew_promoter_positive_df = EPDnew_df.copy()[(EPDnew_df['organism'] == organism) &\n",
    "                                                        (EPDnew_df['sigma factor/motif'] == motif) &\n",
    "                                                        ((EPDnew_df['database/source'] == 'EPDnew'))]\n",
    "\n",
    "        EPDnew_promoter_negative_permuted_df = EPDnew_df.copy()[(EPDnew_df['organism'] == organism) &\n",
    "                                                                (EPDnew_df['sigma factor/motif'] == motif) &\n",
    "                                                        (       (EPDnew_df['database/source'] == 'EPDnew (permuted)'))]\n",
    "        EPDnew_promoters_for_ML_temp_df, random_set_counter = create_promoter_df_for_ml(EPDnew_promoter_positive_df,\n",
    "                                      EPDnew_promoter_negative_permuted_df,\n",
    "                                      random_df,\n",
    "                                      percentage_permuted,\n",
    "                                      random_set_counter)\n",
    "        EPDnew_promoters_for_ML_df = pd.concat([EPDnew_promoters_for_ML_df,\n",
    "           EPDnew_promoters_for_ML_temp_df],\n",
    "            sort=False).reset_index().drop('index', axis=1)"
   ]
  },
  {
   "cell_type": "code",
   "execution_count": null,
   "metadata": {},
   "outputs": [],
   "source": [
    "RegulonDB_promoters_for_ML_df = pd.DataFrame()\n",
    "\n",
    "RegulonDB_promoter_positive_df = RegulonDB_df.copy()[RegulonDB_df['database/source'] == 'RegulonDB']\n",
    "RegulonDB_promoter_negative_permuted_df = RegulonDB_df.copy()[RegulonDB_df['database/source'] == 'RegulonDB (permuted)']\n",
    "\n",
    "RegulonDB_promoters_for_ML_df, random_set_counter = create_promoter_df_for_ml(RegulonDB_promoter_positive_df,\n",
    "                              RegulonDB_promoter_negative_permuted_df,\n",
    "                              random_df,\n",
    "                              percentage_permuted,\n",
    "                              random_set_counter)"
   ]
  },
  {
   "cell_type": "code",
   "execution_count": null,
   "metadata": {},
   "outputs": [],
   "source": [
    "RegulonDB_promoters_for_ML_df"
   ]
  },
  {
   "cell_type": "code",
   "execution_count": null,
   "metadata": {},
   "outputs": [],
   "source": []
  }
 ],
 "metadata": {
  "kernelspec": {
   "display_name": "Python 3",
   "language": "python",
   "name": "python3"
  },
  "language_info": {
   "codemirror_mode": {
    "name": "ipython",
    "version": 3
   },
   "file_extension": ".py",
   "mimetype": "text/x-python",
   "name": "python",
   "nbconvert_exporter": "python",
   "pygments_lexer": "ipython3",
   "version": "3.7.4"
  }
 },
 "nbformat": 4,
 "nbformat_minor": 2
}
