{
 "cells": [
  {
   "cell_type": "code",
   "execution_count": 3,
   "metadata": {},
   "outputs": [],
   "source": [
    "import os\n",
    "import random\n",
    "import seqlogo\n",
    "import numpy as np\n",
    "import pandas as pd\n",
    "\n",
    "from matplotlib import pyplot as plt\n",
    "\n",
    "\n",
    "import random"
   ]
  },
  {
   "cell_type": "code",
   "execution_count": 4,
   "metadata": {},
   "outputs": [],
   "source": [
    "EPDnew_promoters = pd.read_csv('../../data/promoters_for_ML/EPDnew_promoters_for_ML.csv')"
   ]
  },
  {
   "cell_type": "code",
   "execution_count": 10,
   "metadata": {},
   "outputs": [],
   "source": [
    "human_TATA = EPDnew_promoters.copy()[(EPDnew_promoters['database/source'] == 'EPDnew') &\n",
    "                                    (EPDnew_promoters['organism'] == 'h_sapien') &\n",
    "                                    (EPDnew_promoters['sigma factor/motif'] == 'TATA')]"
   ]
  },
  {
   "cell_type": "code",
   "execution_count": 13,
   "metadata": {},
   "outputs": [],
   "source": [
    "TATA_human_sequences = list(human_TATA['DNA sequence'])"
   ]
  },
  {
   "cell_type": "code",
   "execution_count": 14,
   "metadata": {},
   "outputs": [
    {
     "data": {
      "text/plain": [
       "array([[0.35048587, 0.29938339, 0.06796038, 0.28217036],\n",
       "       [0.34261947, 0.11779799, 0.17113241, 0.36845012],\n",
       "       [0.02573488, 0.11892069, 0.02420258, 0.83114185],\n",
       "       [0.12991765, 0.49546499, 0.28275448, 0.09186287],\n",
       "       [0.52498795, 0.02111718, 0.21400568, 0.23988919],\n",
       "       [0.42528827, 0.03043013, 0.10986374, 0.43441787]])"
      ]
     },
     "execution_count": 14,
     "metadata": {},
     "output_type": "execute_result"
    }
   ],
   "source": [
    "random_ppm = np.random.dirichlet(np.ones(4), size=6)\n",
    "random_ppm\n"
   ]
  },
  {
   "cell_type": "code",
   "execution_count": 17,
   "metadata": {},
   "outputs": [
    {
     "data": {
      "text/plain": [
       "'AAAAAAAAA'"
      ]
     },
     "execution_count": 17,
     "metadata": {},
     "output_type": "execute_result"
    }
   ],
   "source": [
    "tes = 'aaaaAAaaa'\n",
    "\n",
    "tes.upper()"
   ]
  },
  {
   "cell_type": "code",
   "execution_count": null,
   "metadata": {},
   "outputs": [],
   "source": []
  }
 ],
 "metadata": {
  "kernelspec": {
   "display_name": "Python 3",
   "language": "python",
   "name": "python3"
  },
  "language_info": {
   "codemirror_mode": {
    "name": "ipython",
    "version": 3
   },
   "file_extension": ".py",
   "mimetype": "text/x-python",
   "name": "python",
   "nbconvert_exporter": "python",
   "pygments_lexer": "ipython3",
   "version": "3.7.4"
  }
 },
 "nbformat": 4,
 "nbformat_minor": 2
}
