{
 "cells": [
  {
   "cell_type": "code",
   "execution_count": 24,
   "metadata": {},
   "outputs": [],
   "source": [
    "import os\n",
    "import random\n",
    "import seqlogo\n",
    "import numpy as np\n",
    "import pandas as pd\n",
    "\n",
    "from matplotlib import pyplot as plt\n",
    "\n",
    "\n",
    "import random"
   ]
  },
  {
   "cell_type": "code",
   "execution_count": 4,
   "metadata": {},
   "outputs": [],
   "source": [
    "EPDnew_promoters = pd.read_csv('../../data/promoters_for_ML/EPDnew_promoters_for_ML.csv')"
   ]
  },
  {
   "cell_type": "code",
   "execution_count": 10,
   "metadata": {},
   "outputs": [],
   "source": [
    "human_TATA = EPDnew_promoters.copy()[(EPDnew_promoters['database/source'] == 'EPDnew') &\n",
    "                                    (EPDnew_promoters['organism'] == 'h_sapien') &\n",
    "                                    (EPDnew_promoters['sigma factor/motif'] == 'TATA')]"
   ]
  },
  {
   "cell_type": "code",
   "execution_count": 13,
   "metadata": {},
   "outputs": [],
   "source": [
    "TATA_human_sequences = list(human_TATA['DNA sequence'])"
   ]
  },
  {
   "cell_type": "code",
   "execution_count": 20,
   "metadata": {},
   "outputs": [
    {
     "data": {
      "text/plain": [
       "array([[0.19696198, 0.49745059, 0.07204467, 0.23354277],\n",
       "       [0.43413024, 0.02300702, 0.45242809, 0.09043466],\n",
       "       [0.00834135, 0.36876484, 0.41798939, 0.20490442],\n",
       "       [0.16521294, 0.04674019, 0.52423812, 0.26380875],\n",
       "       [0.04005774, 0.21037944, 0.01077023, 0.73879259],\n",
       "       [0.12010157, 0.4356575 , 0.14981588, 0.29442505]])"
      ]
     },
     "execution_count": 20,
     "metadata": {},
     "output_type": "execute_result"
    }
   ],
   "source": [
    "random_ppm = np.random.dirichlet(np.ones(4), size=6)\n",
    "random_ppm\n"
   ]
  },
  {
   "cell_type": "code",
   "execution_count": 21,
   "metadata": {},
   "outputs": [
    {
     "data": {
      "text/html": [
       "<div>\n",
       "<style scoped>\n",
       "    .dataframe tbody tr th:only-of-type {\n",
       "        vertical-align: middle;\n",
       "    }\n",
       "\n",
       "    .dataframe tbody tr th {\n",
       "        vertical-align: top;\n",
       "    }\n",
       "\n",
       "    .dataframe thead th {\n",
       "        text-align: right;\n",
       "    }\n",
       "</style>\n",
       "<table border=\"1\" class=\"dataframe\">\n",
       "  <thead>\n",
       "    <tr style=\"text-align: right;\">\n",
       "      <th></th>\n",
       "      <th>A</th>\n",
       "      <th>C</th>\n",
       "      <th>G</th>\n",
       "      <th>T</th>\n",
       "    </tr>\n",
       "  </thead>\n",
       "  <tbody>\n",
       "    <tr>\n",
       "      <td>0</td>\n",
       "      <td>0.082197</td>\n",
       "      <td>0.527252</td>\n",
       "      <td>0.230641</td>\n",
       "      <td>0.159911</td>\n",
       "    </tr>\n",
       "    <tr>\n",
       "      <td>1</td>\n",
       "      <td>0.070375</td>\n",
       "      <td>0.070363</td>\n",
       "      <td>0.024826</td>\n",
       "      <td>0.834435</td>\n",
       "    </tr>\n",
       "    <tr>\n",
       "      <td>2</td>\n",
       "      <td>0.161962</td>\n",
       "      <td>0.216972</td>\n",
       "      <td>0.003665</td>\n",
       "      <td>0.617401</td>\n",
       "    </tr>\n",
       "    <tr>\n",
       "      <td>3</td>\n",
       "      <td>0.735638</td>\n",
       "      <td>0.098290</td>\n",
       "      <td>0.082638</td>\n",
       "      <td>0.083434</td>\n",
       "    </tr>\n",
       "    <tr>\n",
       "      <td>4</td>\n",
       "      <td>0.179898</td>\n",
       "      <td>0.368931</td>\n",
       "      <td>0.280463</td>\n",
       "      <td>0.170708</td>\n",
       "    </tr>\n",
       "    <tr>\n",
       "      <td>5</td>\n",
       "      <td>0.498510</td>\n",
       "      <td>0.079138</td>\n",
       "      <td>0.182004</td>\n",
       "      <td>0.240349</td>\n",
       "    </tr>\n",
       "  </tbody>\n",
       "</table>\n",
       "</div>"
      ],
      "text/plain": [
       "          A         C         G         T\n",
       "0  0.082197  0.527252  0.230641  0.159911\n",
       "1  0.070375  0.070363  0.024826  0.834435\n",
       "2  0.161962  0.216972  0.003665  0.617401\n",
       "3  0.735638  0.098290  0.082638  0.083434\n",
       "4  0.179898  0.368931  0.280463  0.170708\n",
       "5  0.498510  0.079138  0.182004  0.240349"
      ]
     },
     "metadata": {},
     "output_type": "display_data"
    },
    {
     "data": {
      "text/plain": []
     },
     "execution_count": 21,
     "metadata": {},
     "output_type": "execute_result"
    }
   ],
   "source": [
    "np.random.seed(42)\n",
    "\n",
    "# Making a fake PPM\n",
    "random_ppm = np.random.dirichlet(np.ones(4), size=6)\n",
    "ppm = seqlogo.Ppm(random_ppm)\n",
    "ppm"
   ]
  },
  {
   "cell_type": "code",
   "execution_count": 26,
   "metadata": {},
   "outputs": [
    {
     "ename": "OSError",
     "evalue": "Could not find Ghostscript on path. There should be either a gs executable or a gswin32c.exe on your system's path",
     "output_type": "error",
     "traceback": [
      "\u001b[0;31m---------------------------------------------------------------------------\u001b[0m",
      "\u001b[0;31mOSError\u001b[0m                                   Traceback (most recent call last)",
      "\u001b[0;32m<ipython-input-26-4468f38b3efa>\u001b[0m in \u001b[0;36m<module>\u001b[0;34m\u001b[0m\n\u001b[0;32m----> 1\u001b[0;31m \u001b[0mseqlogo\u001b[0m\u001b[0;34m.\u001b[0m\u001b[0mseqlogo\u001b[0m\u001b[0;34m(\u001b[0m\u001b[0mppm\u001b[0m\u001b[0;34m,\u001b[0m \u001b[0mic_scale\u001b[0m \u001b[0;34m=\u001b[0m \u001b[0;32mFalse\u001b[0m\u001b[0;34m,\u001b[0m \u001b[0mformat\u001b[0m \u001b[0;34m=\u001b[0m \u001b[0;34m'png'\u001b[0m\u001b[0;34m,\u001b[0m \u001b[0msize\u001b[0m \u001b[0;34m=\u001b[0m \u001b[0;34m'medium'\u001b[0m\u001b[0;34m)\u001b[0m\u001b[0;34m\u001b[0m\u001b[0;34m\u001b[0m\u001b[0m\n\u001b[0m",
      "\u001b[0;32m~/opt/anaconda3/lib/python3.7/site-packages/seqlogo/seqlogo.py\u001b[0m in \u001b[0;36mseqlogo\u001b[0;34m(pm, ic_scale, color_scheme, size, format, filename, **kwargs)\u001b[0m\n\u001b[1;32m     89\u001b[0m     \u001b[0mlogo_format\u001b[0m \u001b[0;34m=\u001b[0m \u001b[0mwl\u001b[0m\u001b[0;34m.\u001b[0m\u001b[0mLogoFormat\u001b[0m\u001b[0;34m(\u001b[0m\u001b[0mpm\u001b[0m\u001b[0;34m,\u001b[0m \u001b[0moptions\u001b[0m\u001b[0;34m)\u001b[0m\u001b[0;34m\u001b[0m\u001b[0;34m\u001b[0m\u001b[0m\n\u001b[1;32m     90\u001b[0m \u001b[0;34m\u001b[0m\u001b[0m\n\u001b[0;32m---> 91\u001b[0;31m     \u001b[0mout\u001b[0m \u001b[0;34m=\u001b[0m \u001b[0mout_format\u001b[0m\u001b[0;34m(\u001b[0m\u001b[0mpm\u001b[0m\u001b[0;34m,\u001b[0m \u001b[0mlogo_format\u001b[0m\u001b[0;34m)\u001b[0m\u001b[0;34m\u001b[0m\u001b[0;34m\u001b[0m\u001b[0m\n\u001b[0m\u001b[1;32m     92\u001b[0m \u001b[0;34m\u001b[0m\u001b[0m\n\u001b[1;32m     93\u001b[0m     \u001b[0;31m# Create the file if the user supplied an filename\u001b[0m\u001b[0;34m\u001b[0m\u001b[0;34m\u001b[0m\u001b[0;34m\u001b[0m\u001b[0m\n",
      "\u001b[0;32m~/opt/anaconda3/lib/python3.7/site-packages/weblogo/logo_formatter.py\u001b[0m in \u001b[0;36mpng_formatter\u001b[0;34m(logodata, logoformat)\u001b[0m\n\u001b[1;32m     84\u001b[0m \u001b[0;32mdef\u001b[0m \u001b[0mpng_formatter\u001b[0m\u001b[0;34m(\u001b[0m\u001b[0mlogodata\u001b[0m\u001b[0;34m:\u001b[0m \u001b[0mLogoData\u001b[0m\u001b[0;34m,\u001b[0m \u001b[0mlogoformat\u001b[0m\u001b[0;34m:\u001b[0m \u001b[0mLogoFormat\u001b[0m\u001b[0;34m)\u001b[0m \u001b[0;34m->\u001b[0m \u001b[0mbytes\u001b[0m\u001b[0;34m:\u001b[0m\u001b[0;34m\u001b[0m\u001b[0;34m\u001b[0m\u001b[0m\n\u001b[1;32m     85\u001b[0m     \u001b[0;34m\"\"\" Generate a logo in PNG format.\"\"\"\u001b[0m\u001b[0;34m\u001b[0m\u001b[0;34m\u001b[0m\u001b[0m\n\u001b[0;32m---> 86\u001b[0;31m     \u001b[0;32mreturn\u001b[0m \u001b[0m_bitmap_formatter\u001b[0m\u001b[0;34m(\u001b[0m\u001b[0mlogodata\u001b[0m\u001b[0;34m,\u001b[0m \u001b[0mlogoformat\u001b[0m\u001b[0;34m,\u001b[0m \u001b[0mdevice\u001b[0m\u001b[0;34m=\u001b[0m\u001b[0;34m\"png\"\u001b[0m\u001b[0;34m)\u001b[0m\u001b[0;34m\u001b[0m\u001b[0;34m\u001b[0m\u001b[0m\n\u001b[0m\u001b[1;32m     87\u001b[0m \u001b[0;34m\u001b[0m\u001b[0m\n\u001b[1;32m     88\u001b[0m \u001b[0;34m\u001b[0m\u001b[0m\n",
      "\u001b[0;32m~/opt/anaconda3/lib/python3.7/site-packages/weblogo/logo_formatter.py\u001b[0m in \u001b[0;36m_bitmap_formatter\u001b[0;34m(logodata, logoformat, device)\u001b[0m\n\u001b[1;32m     41\u001b[0m \u001b[0;32mdef\u001b[0m \u001b[0m_bitmap_formatter\u001b[0m\u001b[0;34m(\u001b[0m\u001b[0mlogodata\u001b[0m\u001b[0;34m:\u001b[0m \u001b[0mLogoData\u001b[0m\u001b[0;34m,\u001b[0m \u001b[0mlogoformat\u001b[0m\u001b[0;34m:\u001b[0m \u001b[0mLogoFormat\u001b[0m\u001b[0;34m,\u001b[0m \u001b[0mdevice\u001b[0m\u001b[0;34m:\u001b[0m \u001b[0mstr\u001b[0m\u001b[0;34m)\u001b[0m \u001b[0;34m->\u001b[0m \u001b[0mbytes\u001b[0m\u001b[0;34m:\u001b[0m\u001b[0;34m\u001b[0m\u001b[0;34m\u001b[0m\u001b[0m\n\u001b[1;32m     42\u001b[0m     \u001b[0meps\u001b[0m \u001b[0;34m=\u001b[0m \u001b[0meps_formatter\u001b[0m\u001b[0;34m(\u001b[0m\u001b[0mlogodata\u001b[0m\u001b[0;34m,\u001b[0m \u001b[0mlogoformat\u001b[0m\u001b[0;34m)\u001b[0m\u001b[0;34m.\u001b[0m\u001b[0mdecode\u001b[0m\u001b[0;34m(\u001b[0m\u001b[0;34m)\u001b[0m\u001b[0;34m\u001b[0m\u001b[0;34m\u001b[0m\u001b[0m\n\u001b[0;32m---> 43\u001b[0;31m     \u001b[0mgs\u001b[0m \u001b[0;34m=\u001b[0m \u001b[0mGhostscriptAPI\u001b[0m\u001b[0;34m(\u001b[0m\u001b[0;34m)\u001b[0m\u001b[0;34m\u001b[0m\u001b[0;34m\u001b[0m\u001b[0m\n\u001b[0m\u001b[1;32m     44\u001b[0m     return gs.convert(device, eps,\n\u001b[1;32m     45\u001b[0m                       logoformat.logo_width, logoformat.logo_height, logoformat.resolution)\n",
      "\u001b[0;32m~/opt/anaconda3/lib/python3.7/site-packages/weblogo/logo_formatter.py\u001b[0m in \u001b[0;36m__init__\u001b[0;34m(self, path)\u001b[0m\n\u001b[1;32m    248\u001b[0m             \u001b[0mcommand\u001b[0m \u001b[0;34m=\u001b[0m \u001b[0mshutil\u001b[0m\u001b[0;34m.\u001b[0m\u001b[0mwhich\u001b[0m\u001b[0;34m(\u001b[0m\u001b[0;34m'gswin32c.exe'\u001b[0m\u001b[0;34m,\u001b[0m \u001b[0mpath\u001b[0m\u001b[0;34m=\u001b[0m\u001b[0mpath\u001b[0m\u001b[0;34m)\u001b[0m   \u001b[0;31m# pragma: no cover\u001b[0m\u001b[0;34m\u001b[0m\u001b[0;34m\u001b[0m\u001b[0m\n\u001b[1;32m    249\u001b[0m         \u001b[0;32mif\u001b[0m \u001b[0mcommand\u001b[0m \u001b[0;32mis\u001b[0m \u001b[0;32mNone\u001b[0m\u001b[0;34m:\u001b[0m\u001b[0;34m\u001b[0m\u001b[0;34m\u001b[0m\u001b[0m\n\u001b[0;32m--> 250\u001b[0;31m             raise EnvironmentError(\"Could not find Ghostscript on path. \"\n\u001b[0m\u001b[1;32m    251\u001b[0m                                    \u001b[0;34m\"There should be either a gs executable or a gswin32c.exe on \"\u001b[0m\u001b[0;34m\u001b[0m\u001b[0;34m\u001b[0m\u001b[0m\n\u001b[1;32m    252\u001b[0m                                    \"your system's path\")    # pragma: no cover\n",
      "\u001b[0;31mOSError\u001b[0m: Could not find Ghostscript on path. There should be either a gs executable or a gswin32c.exe on your system's path"
     ]
    }
   ],
   "source": [
    "seqlogo.seqlogo(ppm, ic_scale = False, format = 'png', size = 'medium')"
   ]
  },
  {
   "cell_type": "code",
   "execution_count": null,
   "metadata": {},
   "outputs": [],
   "source": []
  }
 ],
 "metadata": {
  "kernelspec": {
   "display_name": "Python 3",
   "language": "python",
   "name": "python3"
  },
  "language_info": {
   "codemirror_mode": {
    "name": "ipython",
    "version": 3
   },
   "file_extension": ".py",
   "mimetype": "text/x-python",
   "name": "python",
   "nbconvert_exporter": "python",
   "pygments_lexer": "ipython3",
   "version": "3.7.4"
  }
 },
 "nbformat": 4,
 "nbformat_minor": 2
}
