{
 "cells": [
  {
   "cell_type": "markdown",
   "metadata": {},
   "source": [
    "# Create negative set for promoter mining\n",
    "\n",
    "Last updated: January 30, 2019\n",
    "\n",
    "Created by: Miguel A. Alcantar\n",
    "\n",
    "This notebook create a negative set for promoter sequences. Negative sets are largely scrambled promoter sequences and will eventually include random segments of genomic sequence.\n"
   ]
  },
  {
   "cell_type": "code",
   "execution_count": 25,
   "metadata": {},
   "outputs": [],
   "source": [
    "import os\n",
    "import numpy as np\n",
    "import pandas as pd\n",
    "from matplotlib import pyplot as plt\n",
    "import random\n",
    "random.seed(777)"
   ]
  },
  {
   "cell_type": "code",
   "execution_count": 26,
   "metadata": {},
   "outputs": [
    {
     "name": "stdout",
     "output_type": "stream",
     "text": [
      "Pandas: v0.25.1\n",
      "Numpy: v1.17.2\n"
     ]
    }
   ],
   "source": [
    "# package versions \n",
    "\n",
    "print(\"Pandas: v\" + pd.__version__) \n",
    "print(\"Numpy: v\" + np.__version__)"
   ]
  },
  {
   "cell_type": "markdown",
   "metadata": {},
   "source": [
    "# Helper functions\n"
   ]
  },
  {
   "cell_type": "code",
   "execution_count": 30,
   "metadata": {},
   "outputs": [],
   "source": [
    "def trim_promter_seq(promoter_df, new_range, dataset_to_trim):\n",
    "\n",
    "    \"\"\"\n",
    "    reduce size of the promoter sequences according to newly specified range\n",
    "\n",
    "    inputs\n",
    "    promoter_df: dataframe containing promoter sequences\n",
    "    new_range: list containing new range for promoter sequences (e.g., [-249, 50])\n",
    "    dataset_to_trim: string indicating which dataset to trim\n",
    "        valid inputs are: 'EPDnew', 'RegulonDB', 'DBTBS', 'bacterial inducible promoters'\n",
    "\n",
    "    outputs\n",
    "    promoter_df: dataframe with updated promoter sequences\n",
    "    \"\"\"\n",
    "\n",
    "    # split dataframe based on which dataset we need to trim\n",
    "    if dataset_to_trim == 'EPDnew':\n",
    "        promoter_df_to_trim = promoter_df.copy()[promoter_df['database/source'] == 'EPDnew']\n",
    "        promoter_df_not_to_trim = promoter_df.copy()[promoter_df['database/source'] != 'EPDnew']\n",
    "\n",
    "    elif dataset_to_trim == 'RegulonDB':\n",
    "        promoter_df_to_trim = promoter_df.copy()[promoter_df['database/source'] == 'RegulonDB']\n",
    "        promoter_df_not_to_trim = promoter_df.copy()[promoter_df['database/source'] != 'RegulonDB']\n",
    "\n",
    "    elif dataset_to_trim == 'DBTBS':\n",
    "        promoter_df_to_trim = promoter_df.copy()[promoter_df['database/source'] == 'DBTBS']\n",
    "        promoter_df_not_to_trim = promoter_df.copy()[promoter_df['database/source'] != 'DBTBS']\n",
    "\n",
    "    elif dataset_to_trim == 'bacterial inducible promoters':\n",
    "        promoter_df_to_trim = promoter_df.copy()[promoter_df['database/source'] == 'Meyer et al 2019 (PMID: 30478458)']\n",
    "        promoter_df_not_to_trim = promoter_df.copy()[promoter_df['database/source'] != 'Meyer et al 2019 (PMID: 30478458)']\n",
    "\n",
    "    elif dataset_to_trim == 'fungal inducible promoters':\n",
    "        promoter_df_to_trim = promoter_df.copy()[((promoter_df['database/source'] != 'EPDnew') &\n",
    "                                                 (promoter_df['database/source'] != 'RegulonDB') &\n",
    "                                                 (promoter_df['database/source'] != 'DBTBS') &\n",
    "                                                (promoter_df['database/source'] != 'Meyer et al 2019 (PMID: 30478458)'))]\n",
    "\n",
    "\n",
    "        promoter_df_not_to_trim = promoter_df.copy()[~((promoter_df['database/source'] != 'EPDnew') &\n",
    "                                                 (promoter_df['database/source'] != 'RegulonDB') &\n",
    "                                                 (promoter_df['database/source'] != 'DBTBS') &\n",
    "                                                (promoter_df['database/source'] != 'Meyer et al 2019 (PMID: 30478458)'))]\n",
    "\n",
    "    new_sequence_list = []\n",
    "    new_range_list = []\n",
    "\n",
    "    # change sequence length\n",
    "    # this is done by setting the lower index at: (new lower bound) - (old lower bound)\n",
    "    # and upper index at: (sequence length) -( (old upper bound) - (new upper bound) )\n",
    "    for seq, seq_range in zip(list(promoter_df_to_trim['DNA sequence']), list(promoter_df_to_trim['range (with respect to TSS)'])):\n",
    "        range_orig_splt = seq_range.split(' to ')\n",
    "        lower_range_orig = int(range_orig_splt[0])\n",
    "        upper_range_orig = int(range_orig_splt[1])\n",
    "\n",
    "        if new_range[0] < lower_range_orig or new_range[1] > upper_range_orig:\n",
    "            print('Requested new range is larger than original sequence length.')\n",
    "            new_sequence_list.append(seq)\n",
    "            new_range_list.append(seq_range)\n",
    "        else:\n",
    "            new_lower_idx = int(new_range[0]) - lower_range_orig\n",
    "            new_upper_idx = upper_range_orig - int(new_range[1])\n",
    "            seq_new = seq[new_lower_idx:len(seq) - new_upper_idx]\n",
    "            new_sequence_list.append(seq_new)\n",
    "            new_range_list.append(str(new_range[0]) + ' to ' + '+'+str(new_range[1]))\n",
    "\n",
    "    promoter_df_to_trim['DNA sequence'] = new_sequence_list\n",
    "    promoter_df_to_trim['range (with respect to TSS)'] = new_range_list\n",
    "\n",
    "    promoter_df = pd.concat([promoter_df_to_trim,\n",
    "           promoter_df_not_to_trim],\n",
    "            sort=False).reset_index().drop('index', axis=1)\n",
    "\n",
    "    return(promoter_df)\n"
   ]
  },
  {
   "cell_type": "code",
   "execution_count": 31,
   "metadata": {},
   "outputs": [],
   "source": [
    "def mutate_sequence(sequence, mutation_rate, seed = 777):\n",
    "    \n",
    "    \"\"\"\n",
    "    mutate nucleotides in a given sequence\n",
    "    \n",
    "    inputs\n",
    "    sequence: string containing nucleotide sequence -- it is assumed that the sequence only contains 'atcg'\n",
    "    mutation_rate: float indicating desired mutation rate (should be values between 0 and 1)\n",
    "    \"\"\"\n",
    "    random.seed(seed)\n",
    "    bases = 'actg'\n",
    "    new_sequence = []\n",
    "    for base in sequence:\n",
    "        if random.random() < mutation_rate:\n",
    "            new_base = bases.strip(base)[random.randint(0, 2)]\n",
    "            new_sequence.append(new_base)\n",
    "        else:\n",
    "            new_sequence.append(base)\n",
    "    return(''.join(new_sequence))"
   ]
  },
  {
   "cell_type": "code",
   "execution_count": 32,
   "metadata": {},
   "outputs": [],
   "source": [
    "def generate_random_sequence(num_sequences, sequence_length, seed=777):\n",
    "    \n",
    "    \"\"\"\n",
    "    generates a specified number of random sequences\n",
    "    \n",
    "    inputs\n",
    "    num_sequences: integer indicating the number of random sequences to be generated\n",
    "    sequence_length: integer indicating length of sequences to be generated\n",
    "    \n",
    "    outputs\n",
    "    sequences: list of random sequences\n",
    "    \"\"\"\n",
    "    random.seed(seed)\n",
    "    bases = ['a', 'c', 't', 'g']\n",
    "    random_sequences = []\n",
    "    \n",
    "    for idx in range(0,num_sequences*2):\n",
    "        random_sequence = [random.choice(bases) for _ in range(sequence_length)]\n",
    "        random_sequences.append(''.join(random_sequence))\n",
    "        random_sequences_final = list(set(random_sequences[0:num_sequences]))\n",
    "    random_sequences_df = pd.DataFrame()\n",
    "    random_sequences_df['DNA sequence'] = random_sequences_final\n",
    "    random_sequences_df['database/source'] = 'random'\n",
    "    random_sequences_df = reorganize_promoter_df_columns(random_sequences_df)\n",
    "    return(random_sequences_df)\n",
    "    \n",
    "    "
   ]
  },
  {
   "cell_type": "code",
   "execution_count": 33,
   "metadata": {},
   "outputs": [],
   "source": [
    "def create_permuted_set(promoter_df, number_of_splits, percentage_to_conserve, mutation_rate, seed=777):\n",
    "    \n",
    "    \"\"\"\n",
    "    create negative promoter set from existing promoter sequences\n",
    "    future iterations may want to pull genomic sequences\n",
    "    \n",
    "    inputs\n",
    "    promoter_df: dataframe containing promoter sequences\n",
    "    number_of_splits: integer indicating how many fragments should be created from the main sequence\n",
    "    percentage_to_conserve: float indicating what percentage of sequences should not be permuted\n",
    "    \n",
    "    outputs\n",
    "    negative_promoter_set: dataframe containing negative promoter set\n",
    "    \n",
    "    \"\"\"\n",
    "    random.seed(seed)\n",
    "    promoter_sequences = promoter_df['DNA sequence']\n",
    "    negative_sequences = []\n",
    "    \n",
    "    for sequence in promoter_sequences:\n",
    "        \n",
    "        # define length of nucleotide segments\n",
    "        seq_length = int(len(sequence))\n",
    "        segements_length = int(seq_length / number_of_splits)\n",
    "        segment_indices = list(range(0,number_of_splits,1))\n",
    "        \n",
    "        # segment sequence\n",
    "        sequence_segments = [sequence[start_idx:start_idx+segements_length] for start_idx in range(0, seq_length, segements_length)]\n",
    "        \n",
    "        # define which positions should be conserved and which should be mutated\n",
    "        num_positions_permute = round(number_of_splits*(1-percentage_to_conserve))\n",
    "        num_positions_conserve = number_of_splits - num_positions_permute\n",
    "        permuted_indices = random.sample(segment_indices,num_positions_permute)\n",
    "        conserved_indices = list(set(segment_indices) - set(permuted_indices))\n",
    "        conserved_indices.sort()\n",
    "        permuted_indices.sort()\n",
    "        conserved_segments = [sequence_segments[conserved_idx] for conserved_idx in conserved_indices]\n",
    "        permuted_segments = [sequence_segments[permuted_idx] for permuted_idx in permuted_indices]\n",
    "          \n",
    "        # permute segments\n",
    "        random.shuffle(permuted_segments)\n",
    "        \n",
    "        # mutate permuted segmenes\n",
    "        permuted_segments = [mutate_sequence(segment, mutation_rate, seed) for segment in permuted_segments]\n",
    "        \n",
    "        # place segments back into sequence\n",
    "        mutated_permuted_sequence = [None] * len(sequence_segments)\n",
    "        # populate permuted sequences\n",
    "        for idx_to_insert, permuted_segment in zip(permuted_indices,permuted_segments):\n",
    "            mutated_permuted_sequence[idx_to_insert] = permuted_segment\n",
    "            \n",
    "        for idx_to_insert, conserved_segment in zip(conserved_indices,conserved_segments):\n",
    "            mutated_permuted_sequence[idx_to_insert] = conserved_segment\n",
    "\n",
    "        negative_sequences.append(''.join(mutated_permuted_sequence))\n",
    "        \n",
    "    # create dataframe with negative promoters\n",
    "    negative_sequence_df = promoter_df.copy()\n",
    "    negative_sequence_df['DNA sequence'] = negative_sequences\n",
    "    negative_sequence_df['class'] = 0\n",
    "    return(negative_sequence_df)\n",
    "    "
   ]
  },
  {
   "cell_type": "code",
   "execution_count": 21,
   "metadata": {},
   "outputs": [],
   "source": [
    "promoter_df = pd.read_csv('../../data/parsed_promoter_data/20191203_promoters.csv',low_memory=False).fillna('')\n",
    "promoter_df = trim_promter_seq(promoter_df, [-249,50], 'EPDnew')\n",
    "promoter_df = trim_promter_seq(promoter_df, [-59,20], 'RegulonDB')"
   ]
  },
  {
   "cell_type": "code",
   "execution_count": 22,
   "metadata": {},
   "outputs": [],
   "source": [
    "EPDnew_promoters_df = promoter_df.copy()\n",
    "EPDnew_promoters_df = EPDnew_promoters_df[EPDnew_promoters_df['database/source'] == 'EPDnew']\n",
    "EPDnew_negative_promoters_df = create_permuted_set(EPDnew_promoters_df, 20, 0.4, 0.2,seed=777)\n"
   ]
  },
  {
   "cell_type": "code",
   "execution_count": 23,
   "metadata": {},
   "outputs": [],
   "source": [
    "RegulonDB_promoters_df = promoter_df.copy()\n",
    "RegulonDB_promoters_df = RegulonDB_promoters_df[RegulonDB_promoters_df['database/source'] == 'RegulonDB']\n",
    "RegulonDB_negative_promoters_df = create_permuted_set(RegulonDB_promoters_df, 8, 0.4, 0.2, seed=777)\n"
   ]
  },
  {
   "cell_type": "code",
   "execution_count": null,
   "metadata": {},
   "outputs": [],
   "source": [
    "promoters_all_df = pd.concat([promoter_df,\n",
    "               EPDnew_negative_promoters_df,\n",
    "               RegulonDB_negative_promoters_df],\n",
    "                sort=False).reset_index().drop('index', axis=1)"
   ]
  },
  {
   "cell_type": "code",
   "execution_count": null,
   "metadata": {},
   "outputs": [],
   "source": [
    "promoters_all_df.to_csv('../../data/parsed_promoter_data/promoters_all.csv')\n",
    "\n"
   ]
  }
 ],
 "metadata": {
  "kernelspec": {
   "display_name": "Python 3",
   "language": "python",
   "name": "python3"
  }
 },
 "nbformat": 4,
 "nbformat_minor": 2
}
