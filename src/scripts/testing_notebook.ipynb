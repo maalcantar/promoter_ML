{
 "cells": [
  {
   "cell_type": "code",
   "execution_count": 1,
   "metadata": {},
   "outputs": [],
   "source": [
    "import pandas as pd\n",
    "import random\n",
    "from promoter_parsing_util import *\n",
    "random.seed(777)"
   ]
  },
  {
   "cell_type": "code",
   "execution_count": null,
   "metadata": {},
   "outputs": [],
   "source": [
    "human_promoters = pd.read_csv('../../data/promoters_for_ML/EPDnew_promoters_for_ML.csv', low_memory=False).fillna('')\n",
    "human_promoters = human_promoters[human_promoters['organism'] == 'h_sapien']\n",
    "human_promoters = human_promoters[['organism', 'database/source','DNA sequence', 'sigma factor/motif', 'class']].reset_index().drop('index', axis=1)\n"
   ]
  },
  {
   "cell_type": "code",
   "execution_count": null,
   "metadata": {},
   "outputs": [],
   "source": [
    "human_promoters.to_csv('../../data/promoters_for_ML/human_promoters.csv', index=False)"
   ]
  },
  {
   "cell_type": "code",
   "execution_count": null,
   "metadata": {},
   "outputs": [],
   "source": [
    "human_promoters[human_promoters['database/source'] == 'EPDnew'].shape[0]"
   ]
  },
  {
   "cell_type": "code",
   "execution_count": null,
   "metadata": {},
   "outputs": [],
   "source": [
    "human_promoters\n",
    "\n"
   ]
  },
  {
   "cell_type": "code",
   "execution_count": null,
   "metadata": {},
   "outputs": [],
   "source": [
    "# Download regulon DB promoter database and organize dataframe\n",
    "ecoli_gene_sequences_df = pd.read_csv('../../data/genome_transcripts/e_coli_Gene_sequence.csv', header=40)\n",
    "new_columns_list = [\"RegulonDB ID\",\n",
    "                    \"regulated gene\",\n",
    "                    \"gene left end position in the genome\",\n",
    "                    \"gene right end position in the genome\",\n",
    "                    \"DNA strand where the gene is coded\",\n",
    "                    \"product type\",\n",
    "                    \"product name\",\n",
    "                    \"start codon sequence\",\n",
    "                    \"stop codon sequence\",\n",
    "                    \"DNA sequence\",\n",
    "                    \"all bnumber related to gene\",\n",
    "                    \"other databases id  related to gene\",\n",
    "                    \"other databases id  related to gene (2)\"]\n",
    "old_columns_list = list(ecoli_gene_sequences_df.columns)\n",
    "reindex_dict = dict(zip(old_columns_list, new_columns_list))\n",
    "ecoli_gene_sequences_df = ecoli_gene_sequences_df.rename(columns=reindex_dict)\n",
    "ecoli_gene_sequences_df = ecoli_gene_sequences_df.fillna('')\n",
    "ecoli_gene_sequences_df = ecoli_gene_sequences_df[~ecoli_gene_sequences_df['product name'].str.contains('putative')]\n",
    "ecoli_gene_sequences_df = ecoli_gene_sequences_df[[\"DNA sequence\", 'regulated gene']]\n",
    "ecoli_gene_sequences_df['database/source'] = ['e_coli genes (RegulonDB)'] * ecoli_gene_sequences_df.shape[0]"
   ]
  },
  {
   "cell_type": "code",
   "execution_count": null,
   "metadata": {},
   "outputs": [],
   "source": [
    "ecoli_gene_sequences_df = reorganize_promoter_df_columns(ecoli_gene_sequences_df)\n",
    "\n",
    "ecoli_gene_sequences_df = QC_DNA_sequences(ecoli_gene_sequences_df)\n",
    "ecoli_gene_sequences_df = ecoli_gene_sequences_df[ecoli_gene_sequences_df['DNA sequence'].str.len() > 160]\n",
    "ecoli_gene_sequences_df = ecoli_gene_sequences_df.reset_index()\n",
    "\n"
   ]
  },
  {
   "cell_type": "code",
   "execution_count": null,
   "metadata": {
    "scrolled": true
   },
   "outputs": [],
   "source": [
    "final_seq_len = 80\n",
    "new_trimmed_seqs = []\n",
    "origin_gene = []\n",
    "for seq, gene in zip(ecoli_gene_sequences_df['DNA sequence'],ecoli_gene_sequences_df['regulated gene']) :\n",
    "    num_iterations = int(np.floor(len(seq)/final_seq_len))\n",
    "    for num_iter in range(0,num_iterations):\n",
    "        new_trimmed_seqs.append(seq[final_seq_len*num_iter:(num_iter+1)*final_seq_len])\n",
    "        origin_gene.append(gene)\n",
    "      "
   ]
  },
  {
   "cell_type": "code",
   "execution_count": null,
   "metadata": {},
   "outputs": [],
   "source": [
    "trimmed_ecoli_dict = {\n",
    "                    'DNA sequence': new_trimmed_seqs,\n",
    "                    'regulated gene': origin_gene,\n",
    "                    'database/source': ['e_coli genes (RegulonDB)']*len(origin_gene)\n",
    "                    }\n",
    "ecoli_gene_sequences_trimmed_df = pd.DataFrame(trimmed_ecoli_dict)\n",
    "ecoli_gene_sequences_trimmed_df = reorganize_promoter_df_columns(ecoli_gene_sequences_trimmed_df)\n",
    "ecoli_gene_sequences_trimmed_df = QC_DNA_sequences(ecoli_gene_sequences_trimmed_df)\n",
    "ecoli_gene_sequences_trimmed_df['class'] = 0"
   ]
  },
  {
   "cell_type": "code",
   "execution_count": 2,
   "metadata": {},
   "outputs": [
    {
     "name": "stdout",
     "output_type": "stream",
     "text": [
      "29\n"
     ]
    }
   ],
   "source": [
    "def test_fun():\n",
    "    random.seed(777)\n",
    "    print(random.randint(0,100))\n",
    "test_fun()"
   ]
  },
  {
   "cell_type": "code",
   "execution_count": 3,
   "metadata": {},
   "outputs": [],
   "source": [
    "e_coli_df = pd.read_csv('../../data/promoters_for_ML/RegulonDB_promoters_for_ML.csv', low_memory=False).fillna('')\n",
    "e_coli_df = e_coli_df[['organism', 'database/source','DNA sequence', 'sigma factor/motif', 'class']].reset_index().drop('index', axis=1)\n",
    "\n",
    "\n"
   ]
  },
  {
   "cell_type": "code",
   "execution_count": 5,
   "metadata": {},
   "outputs": [],
   "source": [
    "e_coli_df.to_csv('../../data/promoters_for_ML/ecoli_promoters.csv', index=False)"
   ]
  },
  {
   "cell_type": "code",
   "execution_count": 9,
   "metadata": {},
   "outputs": [],
   "source": [
    "for seq in e_coli_df['DNA sequence']:\n",
    "    if len(seq) != 80:\n",
    "        print('dant')"
   ]
  },
  {
   "cell_type": "code",
   "execution_count": null,
   "metadata": {},
   "outputs": [],
   "source": []
  }
 ],
 "metadata": {
  "kernelspec": {
   "display_name": "Python 3",
   "language": "python",
   "name": "python3"
  },
  "language_info": {
   "codemirror_mode": {
    "name": "ipython",
    "version": 3
   },
   "file_extension": ".py",
   "mimetype": "text/x-python",
   "name": "python",
   "nbconvert_exporter": "python",
   "pygments_lexer": "ipython3",
   "version": "3.7.4"
  }
 },
 "nbformat": 4,
 "nbformat_minor": 2
}
